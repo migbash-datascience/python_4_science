{
 "cells": [
  {
   "cell_type": "code",
   "execution_count": 7,
   "metadata": {},
   "outputs": [
    {
     "name": "stderr",
     "output_type": "stream",
     "text": [
      "ERROR: Could not find a version that satisfies the requirement vpython==5.74 (from versions: 0.1.0a1, 0.1.0a2, 0.1.0a3, 0.1.0a4, 0.2.0b1, 0.2.0b2, 0.2.0b3, 0.2.0b4, 0.2.0b5, 0.2.0b6, 0.2.0b7, 0.2.0b8, 0.2.0b9, 0.2.0b10, 0.2.0b11, 0.2.0b12, 0.2.0b13, 0.2.0b14, 0.2.0b15, 0.2.0b16, 0.3.0, 0.3.1, 0.3.2, 0.3.3, 0.3.4, 0.3.5, 0.3.6, 0.3.7, 0.3.8, 0.3.9, 0.3.10, 0.3.11, 1.0.0, 1.0.1, 1.0.2, 1.0.3, 1.0.4, 1.0.5, 1.0.6, 1.0.7, 1.0.8, 1.0.9, 2.0, 2.0.1, 2.0.2, 2.0.3, 2.0.4, 2.0.5, 2.0.6, 2.0.7, 2.0.8, 7.0.0b1, 7.0.0b2, 7.0.0b3, 7.0.0b5, 7.0.0, 7.0.1, 7.0.2, 7.0.3, 7.1.0, 7.1.1, 7.1.2, 7.1.3, 7.1.4, 7.1.5, 7.1.6, 7.2.0, 7.3.0, 7.3.1, 7.3.2, 7.4, 7.4.1, 7.4.2, 7.4.3, 7.4.4, 7.4.5, 7.4.6, 7.4.7, 7.5.0a1, 7.5.0a2, 7.5.0a3, 7.5.0a4, 7.5.0b1, 7.5.0b2, 7.5.0b3, 7.5.0, 7.5.1a2, 7.5.1a4, 7.5.1a5, 7.5.1, 7.5.2b1, 7.5.2b2, 7.5.2b3, 7.5.2b4, 7.5.2b5, 7.5.2, 7.6.0, 7.6.1b1, 7.6.1b2, 7.6.1b4, 7.6.1b5, 7.6.1b6, 7.6.1b7, 7.6.1b8, 7.6.1b9, 7.6.1b10, 7.6.1b11, 7.6.1b12)\n",
      "ERROR: No matching distribution found for vpython==5.74\n"
     ]
    }
   ],
   "source": [
    "! pip install vpython==5.74"
   ]
  },
  {
   "cell_type": "code",
   "execution_count": 6,
   "metadata": {},
   "outputs": [
    {
     "data": {
      "text/html": [
       "<div id=\"glowscript\" class=\"glowscript\"></div>"
      ],
      "text/plain": [
       "<IPython.core.display.HTML object>"
      ]
     },
     "metadata": {},
     "output_type": "display_data"
    },
    {
     "data": {
      "application/javascript": [
       "if (typeof Jupyter !== \"undefined\") { window.__context = { glowscript_container: $(\"#glowscript\").removeAttr(\"id\")};}else{ element.textContent = ' ';}"
      ],
      "text/plain": [
       "<IPython.core.display.Javascript object>"
      ]
     },
     "metadata": {},
     "output_type": "display_data"
    },
    {
     "ename": "NameError",
     "evalue": "name 'array' is not defined",
     "output_type": "error",
     "traceback": [
      "\u001b[1;31m---------------------------------------------------------------------------\u001b[0m",
      "\u001b[1;31mNameError\u001b[0m                                 Traceback (most recent call last)",
      "\u001b[1;32m<ipython-input-6-206665274511>\u001b[0m in \u001b[0;36m<module>\u001b[1;34m\u001b[0m\n\u001b[0;32m     49\u001b[0m     \u001b[0mrlist\u001b[0m\u001b[1;33m.\u001b[0m\u001b[0mappend\u001b[0m\u001b[1;33m(\u001b[0m\u001b[0mr\u001b[0m\u001b[1;33m)\u001b[0m\u001b[1;33m\u001b[0m\u001b[1;33m\u001b[0m\u001b[0m\n\u001b[0;32m     50\u001b[0m \u001b[1;33m\u001b[0m\u001b[0m\n\u001b[1;32m---> 51\u001b[1;33m \u001b[0mpos\u001b[0m \u001b[1;33m=\u001b[0m \u001b[0marray\u001b[0m\u001b[1;33m(\u001b[0m\u001b[0mposlist\u001b[0m\u001b[1;33m)\u001b[0m\u001b[1;33m\u001b[0m\u001b[1;33m\u001b[0m\u001b[0m\n\u001b[0m\u001b[0;32m     52\u001b[0m \u001b[0mp\u001b[0m \u001b[1;33m=\u001b[0m \u001b[0marray\u001b[0m\u001b[1;33m(\u001b[0m\u001b[0mplist\u001b[0m\u001b[1;33m)\u001b[0m\u001b[1;33m\u001b[0m\u001b[1;33m\u001b[0m\u001b[0m\n\u001b[0;32m     53\u001b[0m \u001b[0mm\u001b[0m \u001b[1;33m=\u001b[0m \u001b[0marray\u001b[0m\u001b[1;33m(\u001b[0m\u001b[0mmlist\u001b[0m\u001b[1;33m)\u001b[0m\u001b[1;33m\u001b[0m\u001b[1;33m\u001b[0m\u001b[0m\n",
      "\u001b[1;31mNameError\u001b[0m: name 'array' is not defined"
     ]
    }
   ],
   "source": [
    "from visual import *\n",
    "from time import clock\n",
    "from random import random\n",
    "\n",
    "# Stars interacting gravitationally\n",
    "# Program uses numpy arrays for high speed computations\n",
    "\n",
    "win = 600\n",
    "\n",
    "# change this to have more or fewer stars\n",
    "Nstars = 20  \n",
    "\n",
    "# Universal gravitational constant\n",
    "G = 6.7e-11  \n",
    "\n",
    "# Typical values\n",
    "Msun = 2E30\n",
    "Rsun = 2E9\n",
    "L = 4e10\n",
    "vsun = 0.8 * sqrt(G * Msun / Rsun)\n",
    "\n",
    "scene = canvas(title=\"Stars\", width=win, height=win, range=2 * L, forward=vector(-1, -1, -1))\n",
    "\n",
    "xaxis = curve(pos=[(0, 0, 0), (L, 0, 0)], color=vector(0.5, 0.5, 0.5))\n",
    "yaxis = curve(pos=[(0, 0, 0), (0, L, 0)], color=vector(0.5, 0.5, 0.5))\n",
    "zaxis = curve(pos=[(0, 0, 0), (0, 0, L)], color=vector(0.5, 0.5, 0.5))\n",
    "\n",
    "Stars = []\n",
    "colors = [color.red, color.green, color.blue,\n",
    "          color.yellow, color.cyan, color.magenta]\n",
    "poslist = []\n",
    "plist = []\n",
    "mlist = []\n",
    "rlist = []\n",
    "\n",
    "for i in range(Nstars):\n",
    "    x = -L + 2 * L * random()\n",
    "    y = -L + 2 * L * random()\n",
    "    z = -L + 2 * L * random()\n",
    "    r = Rsun / 2 + Rsun * random()\n",
    "    Stars = Stars + [sphere(pos=vector(x, y, z), radius=r, color=colors[i % 6], make_trail=True, interval=10)]\n",
    "    mass = Msun * r**3 / Rsun**3\n",
    "    px = mass * (-vsun + 2 * vsun * random())\n",
    "    py = mass * (-vsun + 2 * vsun * random())\n",
    "    pz = mass * (-vsun + 2 * vsun * random())\n",
    "    poslist.append((x, y, z))\n",
    "    plist.append((px, py, pz))\n",
    "    mlist.append(mass)\n",
    "    rlist.append(r)\n",
    "\n",
    "pos = array(poslist)\n",
    "p = array(plist)\n",
    "m = array(mlist)\n",
    "# Numeric Python: (1 by Nstars) vs. (Nstars by 1)\n",
    "m.shape = vector(Nstars, 1,0)  \n",
    "radius = array(rlist)\n",
    "\n",
    "# velocity of center of mass\n",
    "vcm = sum(p) / sum(m)  \n",
    "# make total initial momentum equal zero\n",
    "p = p - m * vcm  \n",
    "\n",
    "dt = 1000.0\n",
    "Nsteps = 0\n",
    "# initial half-step\n",
    "pos = pos + (p / m) * (dt / 2.)  \n",
    "time = clock()\n",
    "Nhits = 0\n",
    "\n",
    "while True:\n",
    "    rate(100)\n",
    "\n",
    "    # Compute all forces on all stars\n",
    "# all pairs of star-to-star vectors\n",
    "    r = pos - pos[:, newaxis]  \n",
    "    for n in range(Nstars):\n",
    "# otherwise the self-forces are infinite\n",
    "        r[n, n] = 1e6  \n",
    "# star-to-star scalar distances\n",
    "    rmag = sqrt(sum(square(r), -1))  \n",
    "    hit = less_equal(rmag, radius + radius[:, newaxis]) - identity(Nstars)\n",
    "# 1,2 encoded as 1*Nstars+2\n",
    "    hitlist = sort(nonzero(hit.flat)[0]).tolist()  \n",
    "# all force pairs\n",
    "    F = G * m * m[:, newaxis] * r / rmag[:, :, newaxis]**3  \n",
    "\n",
    "    for n in range(Nstars):\n",
    "# no self-forces\n",
    "        F[n, n] = 0  \n",
    "    p = p + sum(F, 1) * dt\n",
    "\n",
    "    # Having updated all momenta, now update all positions\n",
    "    pos = pos + (p / m) * dt\n",
    "\n",
    "    # Update positions of display objects; add trail\n",
    "    for i in range(Nstars):\n",
    "        Stars[i].pos = pos[i]\n",
    "\n",
    "    # If any collisions took place, merge those stars\n",
    "    for ij in hitlist:\n",
    "# decode star pair\n",
    "        i, j = divmod(ij, Nstars)  \n",
    "        if not Stars[i].visible:\n",
    "            continue\n",
    "        if not Stars[j].visible:\n",
    "            continue\n",
    "        # m[i] is a one-element list, e.g. [6e30]\n",
    "        # m[i,0] is an ordinary number, e.g. 6e30\n",
    "        newpos = vector(pos[i] * m[i, 0] + pos[j] * m[j, 0]) / (m[i, 0] + m[j, 0])\n",
    "        newmass = m[i, 0] + m[j, 0]\n",
    "        newp = p[i] + p[j]\n",
    "        newradius = Rsun * ((newmass / Msun)**(1. / 3.))\n",
    "        iset, jset = i, j\n",
    "        if radius[j] > radius[i]:\n",
    "            iset, jset = j, i\n",
    "        Stars[iset].radius = newradius\n",
    "        m[iset, 0] = newmass\n",
    "        pos[iset] = newpos\n",
    "        p[iset] = newp\n",
    "        Stars[jset].trail_object.visible = False\n",
    "        Stars[jset].visible = 0\n",
    "        p[jset] = vector(0, 0, 0)\n",
    "# give it a tiny mass\n",
    "        m[jset, 0] = Msun * 1E-30  \n",
    "        Nhits = Nhits + 1\n",
    "# put it far away\n",
    "        pos[jset] = vector(10. * L * Nhits, 0, 0)  \n",
    "\n",
    "    Nsteps += 1"
   ]
  },
  {
   "cell_type": "code",
   "execution_count": null,
   "metadata": {},
   "outputs": [],
   "source": []
  }
 ],
 "metadata": {
  "kernelspec": {
   "display_name": "Python 3",
   "language": "python",
   "name": "python3"
  },
  "language_info": {
   "codemirror_mode": {
    "name": "ipython",
    "version": 3
   },
   "file_extension": ".py",
   "mimetype": "text/x-python",
   "name": "python",
   "nbconvert_exporter": "python",
   "pygments_lexer": "ipython3",
   "version": "3.7.6"
  }
 },
 "nbformat": 4,
 "nbformat_minor": 4
}
