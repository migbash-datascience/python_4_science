{
 "cells": [
  {
   "cell_type": "code",
   "execution_count": null,
   "metadata": {},
   "outputs": [],
   "source": [
    "import plotly.graph_objects as go\n",
    "\n",
    "fig = go.Figure(go.Carpet(\n",
    "    a = [4, 4, 4, 4.5, 4.5, 4.5, 5, 5, 5, 6, 6, 6],\n",
    "    b = [1, 2, 3, 1, 2, 3, 1, 2, 3, 1, 2, 3],\n",
    "    y = [2, 3.5, 4, 3, 4.5, 5, 5.5, 6.5, 7.5, 8, 8.5, 10],\n",
    "    aaxis = dict(\n",
    "        tickprefix = 'a = ',\n",
    "        ticksuffix = 'm',\n",
    "        smoothing = 1,\n",
    "        minorgridcount = 9,\n",
    "        minorgridwidth = 0.6,\n",
    "        minorgridcolor = 'white',\n",
    "        gridcolor = 'white',\n",
    "        color = 'white'\n",
    "    ),\n",
    "    baxis = dict(\n",
    "        ticksuffix = 'Pa',\n",
    "        smoothing = 1,\n",
    "        minorgridcount = 9,\n",
    "        minorgridwidth = 0.6,\n",
    "        gridcolor = 'white',\n",
    "        minorgridcolor = 'white',\n",
    "        color = 'white'\n",
    "    )\n",
    "))\n",
    "\n",
    "fig.update_layout(\n",
    "    plot_bgcolor = 'black',\n",
    "    paper_bgcolor = 'black',\n",
    "    xaxis = dict(\n",
    "        showgrid = False,\n",
    "        showticklabels = False\n",
    "    ),\n",
    "    yaxis = dict(\n",
    "        showgrid = False,\n",
    "        showticklabels = False\n",
    "    )\n",
    ")\n",
    "\n",
    "fig.show()"
   ]
  }
 ],
 "metadata": {
  "kernelspec": {
   "display_name": "Python 3",
   "language": "python",
   "name": "python3"
  },
  "language_info": {
   "codemirror_mode": {
    "name": "ipython",
    "version": 3
   },
   "file_extension": ".py",
   "mimetype": "text/x-python",
   "name": "python",
   "nbconvert_exporter": "python",
   "pygments_lexer": "ipython3",
   "version": "3.7.6"
  }
 },
 "nbformat": 4,
 "nbformat_minor": 4
}
